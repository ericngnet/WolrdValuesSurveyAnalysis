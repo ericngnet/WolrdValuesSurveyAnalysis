{
 "cells": [
  {
   "cell_type": "code",
   "execution_count": 1,
   "metadata": {},
   "outputs": [],
   "source": [
    "import numpy as np\n",
    "import pandas as pd\n",
    "\n",
    "from sklearn.preprocessing import StandardScaler\n",
    "from sklearn.cluster import KMeans\n",
    "from sklearn.decomposition import PCA\n",
    "\n",
    "import pickle\n",
    "\n",
    "import matplotlib.pyplot as plt\n",
    "import seaborn as sns\n"
   ]
  },
  {
   "cell_type": "code",
   "execution_count": 2,
   "metadata": {},
   "outputs": [],
   "source": [
    "df_profile = pd.read_csv('df_profile_all.csv')"
   ]
  },
  {
   "cell_type": "code",
   "execution_count": 3,
   "metadata": {},
   "outputs": [],
   "source": [
    "df = df_profile[['ID','Country','DEFIANCE','DISBELIEF', 'RELATIVISM','SCEPTICISM','AUTONOMY','EQUALITY','CHOICE','VOICE','SACSECVAL','RESEMAVAL','Values Groups']]"
   ]
  },
  {
   "cell_type": "code",
   "execution_count": 4,
   "metadata": {},
   "outputs": [
    {
     "data": {
      "text/html": [
       "<div>\n",
       "<style scoped>\n",
       "    .dataframe tbody tr th:only-of-type {\n",
       "        vertical-align: middle;\n",
       "    }\n",
       "\n",
       "    .dataframe tbody tr th {\n",
       "        vertical-align: top;\n",
       "    }\n",
       "\n",
       "    .dataframe thead th {\n",
       "        text-align: right;\n",
       "    }\n",
       "</style>\n",
       "<table border=\"1\" class=\"dataframe\">\n",
       "  <thead>\n",
       "    <tr style=\"text-align: right;\">\n",
       "      <th></th>\n",
       "      <th>ID</th>\n",
       "      <th>Country</th>\n",
       "      <th>DEFIANCE</th>\n",
       "      <th>DISBELIEF</th>\n",
       "      <th>RELATIVISM</th>\n",
       "      <th>SCEPTICISM</th>\n",
       "      <th>AUTONOMY</th>\n",
       "      <th>EQUALITY</th>\n",
       "      <th>CHOICE</th>\n",
       "      <th>VOICE</th>\n",
       "      <th>SACSECVAL</th>\n",
       "      <th>RESEMAVAL</th>\n",
       "      <th>Values Groups</th>\n",
       "    </tr>\n",
       "  </thead>\n",
       "  <tbody>\n",
       "    <tr>\n",
       "      <th>0</th>\n",
       "      <td>0</td>\n",
       "      <td>Algeria</td>\n",
       "      <td>0.000000</td>\n",
       "      <td>0.111111</td>\n",
       "      <td>0.333333</td>\n",
       "      <td>0.440000</td>\n",
       "      <td>0.333333</td>\n",
       "      <td>0.000000</td>\n",
       "      <td>0.074074</td>\n",
       "      <td>0.250</td>\n",
       "      <td>0.221111</td>\n",
       "      <td>0.164352</td>\n",
       "      <td>1</td>\n",
       "    </tr>\n",
       "    <tr>\n",
       "      <th>1</th>\n",
       "      <td>1</td>\n",
       "      <td>Algeria</td>\n",
       "      <td>0.386667</td>\n",
       "      <td>0.165556</td>\n",
       "      <td>0.333333</td>\n",
       "      <td>0.220000</td>\n",
       "      <td>0.000000</td>\n",
       "      <td>0.110000</td>\n",
       "      <td>0.000000</td>\n",
       "      <td>0.330</td>\n",
       "      <td>0.276389</td>\n",
       "      <td>0.110000</td>\n",
       "      <td>1</td>\n",
       "    </tr>\n",
       "    <tr>\n",
       "      <th>2</th>\n",
       "      <td>2</td>\n",
       "      <td>Algeria</td>\n",
       "      <td>0.166667</td>\n",
       "      <td>0.055556</td>\n",
       "      <td>0.333333</td>\n",
       "      <td>0.663333</td>\n",
       "      <td>0.333333</td>\n",
       "      <td>0.000000</td>\n",
       "      <td>0.111111</td>\n",
       "      <td>0.165</td>\n",
       "      <td>0.304722</td>\n",
       "      <td>0.152361</td>\n",
       "      <td>1</td>\n",
       "    </tr>\n",
       "    <tr>\n",
       "      <th>3</th>\n",
       "      <td>3</td>\n",
       "      <td>Algeria</td>\n",
       "      <td>0.000000</td>\n",
       "      <td>0.055556</td>\n",
       "      <td>0.333333</td>\n",
       "      <td>0.663333</td>\n",
       "      <td>0.000000</td>\n",
       "      <td>0.386667</td>\n",
       "      <td>0.000000</td>\n",
       "      <td>0.000</td>\n",
       "      <td>0.263056</td>\n",
       "      <td>0.096667</td>\n",
       "      <td>1</td>\n",
       "    </tr>\n",
       "    <tr>\n",
       "      <th>4</th>\n",
       "      <td>4</td>\n",
       "      <td>Algeria</td>\n",
       "      <td>0.000000</td>\n",
       "      <td>0.000000</td>\n",
       "      <td>0.333333</td>\n",
       "      <td>0.550000</td>\n",
       "      <td>0.333333</td>\n",
       "      <td>0.220000</td>\n",
       "      <td>0.074074</td>\n",
       "      <td>0.330</td>\n",
       "      <td>0.220833</td>\n",
       "      <td>0.239352</td>\n",
       "      <td>1</td>\n",
       "    </tr>\n",
       "  </tbody>\n",
       "</table>\n",
       "</div>"
      ],
      "text/plain": [
       "   ID  Country  DEFIANCE  DISBELIEF  RELATIVISM  SCEPTICISM  AUTONOMY  \\\n",
       "0   0  Algeria  0.000000   0.111111    0.333333    0.440000  0.333333   \n",
       "1   1  Algeria  0.386667   0.165556    0.333333    0.220000  0.000000   \n",
       "2   2  Algeria  0.166667   0.055556    0.333333    0.663333  0.333333   \n",
       "3   3  Algeria  0.000000   0.055556    0.333333    0.663333  0.000000   \n",
       "4   4  Algeria  0.000000   0.000000    0.333333    0.550000  0.333333   \n",
       "\n",
       "   EQUALITY    CHOICE  VOICE  SACSECVAL  RESEMAVAL  Values Groups  \n",
       "0  0.000000  0.074074  0.250   0.221111   0.164352              1  \n",
       "1  0.110000  0.000000  0.330   0.276389   0.110000              1  \n",
       "2  0.000000  0.111111  0.165   0.304722   0.152361              1  \n",
       "3  0.386667  0.000000  0.000   0.263056   0.096667              1  \n",
       "4  0.220000  0.074074  0.330   0.220833   0.239352              1  "
      ]
     },
     "execution_count": 4,
     "metadata": {},
     "output_type": "execute_result"
    }
   ],
   "source": [
    "df.head()"
   ]
  },
  {
   "cell_type": "code",
   "execution_count": 5,
   "metadata": {
    "scrolled": false
   },
   "outputs": [
    {
     "name": "stderr",
     "output_type": "stream",
     "text": [
      "C:\\Users\\Eric\\Anaconda3\\lib\\site-packages\\ipykernel_launcher.py:1: SettingWithCopyWarning: \n",
      "A value is trying to be set on a copy of a slice from a DataFrame.\n",
      "Try using .loc[row_indexer,col_indexer] = value instead\n",
      "\n",
      "See the caveats in the documentation: http://pandas.pydata.org/pandas-docs/stable/indexing.html#indexing-view-versus-copy\n",
      "  \"\"\"Entry point for launching an IPython kernel.\n"
     ]
    }
   ],
   "source": [
    "df['Count'] = df.groupby(['Country'])['ID'].transform('count')"
   ]
  },
  {
   "cell_type": "code",
   "execution_count": 6,
   "metadata": {
    "scrolled": true
   },
   "outputs": [],
   "source": [
    "df_new = df.groupby(['Country']).count()"
   ]
  },
  {
   "cell_type": "code",
   "execution_count": 7,
   "metadata": {},
   "outputs": [],
   "source": [
    "df_new.reset_index(inplace=True)"
   ]
  },
  {
   "cell_type": "code",
   "execution_count": 8,
   "metadata": {},
   "outputs": [],
   "source": [
    "df_new = df_new[['Country','Count']]"
   ]
  },
  {
   "cell_type": "code",
   "execution_count": 9,
   "metadata": {},
   "outputs": [],
   "source": [
    "Num_clusters_by_country = df.groupby(['Country','Values Groups']).count()"
   ]
  },
  {
   "cell_type": "code",
   "execution_count": 10,
   "metadata": {},
   "outputs": [],
   "source": [
    "Num_clusters_by_country.reset_index(inplace=True)"
   ]
  },
  {
   "cell_type": "code",
   "execution_count": 11,
   "metadata": {},
   "outputs": [
    {
     "data": {
      "text/html": [
       "<div>\n",
       "<style scoped>\n",
       "    .dataframe tbody tr th:only-of-type {\n",
       "        vertical-align: middle;\n",
       "    }\n",
       "\n",
       "    .dataframe tbody tr th {\n",
       "        vertical-align: top;\n",
       "    }\n",
       "\n",
       "    .dataframe thead th {\n",
       "        text-align: right;\n",
       "    }\n",
       "</style>\n",
       "<table border=\"1\" class=\"dataframe\">\n",
       "  <thead>\n",
       "    <tr style=\"text-align: right;\">\n",
       "      <th></th>\n",
       "      <th>Country</th>\n",
       "      <th>Values Groups</th>\n",
       "      <th>ID</th>\n",
       "      <th>DEFIANCE</th>\n",
       "      <th>DISBELIEF</th>\n",
       "      <th>RELATIVISM</th>\n",
       "      <th>SCEPTICISM</th>\n",
       "      <th>AUTONOMY</th>\n",
       "      <th>EQUALITY</th>\n",
       "      <th>CHOICE</th>\n",
       "      <th>VOICE</th>\n",
       "      <th>SACSECVAL</th>\n",
       "      <th>RESEMAVAL</th>\n",
       "      <th>Count</th>\n",
       "    </tr>\n",
       "  </thead>\n",
       "  <tbody>\n",
       "    <tr>\n",
       "      <th>0</th>\n",
       "      <td>Algeria</td>\n",
       "      <td>1</td>\n",
       "      <td>335</td>\n",
       "      <td>335</td>\n",
       "      <td>335</td>\n",
       "      <td>335</td>\n",
       "      <td>335</td>\n",
       "      <td>335</td>\n",
       "      <td>335</td>\n",
       "      <td>335</td>\n",
       "      <td>335</td>\n",
       "      <td>335</td>\n",
       "      <td>335</td>\n",
       "      <td>335</td>\n",
       "    </tr>\n",
       "    <tr>\n",
       "      <th>1</th>\n",
       "      <td>Algeria</td>\n",
       "      <td>2</td>\n",
       "      <td>45</td>\n",
       "      <td>45</td>\n",
       "      <td>45</td>\n",
       "      <td>45</td>\n",
       "      <td>45</td>\n",
       "      <td>45</td>\n",
       "      <td>45</td>\n",
       "      <td>45</td>\n",
       "      <td>45</td>\n",
       "      <td>45</td>\n",
       "      <td>45</td>\n",
       "      <td>45</td>\n",
       "    </tr>\n",
       "    <tr>\n",
       "      <th>2</th>\n",
       "      <td>Algeria</td>\n",
       "      <td>3</td>\n",
       "      <td>497</td>\n",
       "      <td>497</td>\n",
       "      <td>497</td>\n",
       "      <td>497</td>\n",
       "      <td>497</td>\n",
       "      <td>497</td>\n",
       "      <td>497</td>\n",
       "      <td>497</td>\n",
       "      <td>497</td>\n",
       "      <td>497</td>\n",
       "      <td>497</td>\n",
       "      <td>497</td>\n",
       "    </tr>\n",
       "    <tr>\n",
       "      <th>3</th>\n",
       "      <td>Algeria</td>\n",
       "      <td>4</td>\n",
       "      <td>264</td>\n",
       "      <td>264</td>\n",
       "      <td>264</td>\n",
       "      <td>264</td>\n",
       "      <td>264</td>\n",
       "      <td>264</td>\n",
       "      <td>264</td>\n",
       "      <td>264</td>\n",
       "      <td>264</td>\n",
       "      <td>264</td>\n",
       "      <td>264</td>\n",
       "      <td>264</td>\n",
       "    </tr>\n",
       "    <tr>\n",
       "      <th>4</th>\n",
       "      <td>Argentina</td>\n",
       "      <td>1</td>\n",
       "      <td>52</td>\n",
       "      <td>52</td>\n",
       "      <td>52</td>\n",
       "      <td>52</td>\n",
       "      <td>52</td>\n",
       "      <td>52</td>\n",
       "      <td>52</td>\n",
       "      <td>52</td>\n",
       "      <td>52</td>\n",
       "      <td>52</td>\n",
       "      <td>52</td>\n",
       "      <td>52</td>\n",
       "    </tr>\n",
       "    <tr>\n",
       "      <th>5</th>\n",
       "      <td>Argentina</td>\n",
       "      <td>2</td>\n",
       "      <td>400</td>\n",
       "      <td>400</td>\n",
       "      <td>400</td>\n",
       "      <td>400</td>\n",
       "      <td>400</td>\n",
       "      <td>400</td>\n",
       "      <td>400</td>\n",
       "      <td>400</td>\n",
       "      <td>400</td>\n",
       "      <td>400</td>\n",
       "      <td>400</td>\n",
       "      <td>400</td>\n",
       "    </tr>\n",
       "    <tr>\n",
       "      <th>6</th>\n",
       "      <td>Argentina</td>\n",
       "      <td>3</td>\n",
       "      <td>171</td>\n",
       "      <td>171</td>\n",
       "      <td>171</td>\n",
       "      <td>171</td>\n",
       "      <td>171</td>\n",
       "      <td>171</td>\n",
       "      <td>171</td>\n",
       "      <td>171</td>\n",
       "      <td>171</td>\n",
       "      <td>171</td>\n",
       "      <td>171</td>\n",
       "      <td>171</td>\n",
       "    </tr>\n",
       "    <tr>\n",
       "      <th>7</th>\n",
       "      <td>Argentina</td>\n",
       "      <td>4</td>\n",
       "      <td>396</td>\n",
       "      <td>396</td>\n",
       "      <td>396</td>\n",
       "      <td>396</td>\n",
       "      <td>396</td>\n",
       "      <td>396</td>\n",
       "      <td>396</td>\n",
       "      <td>396</td>\n",
       "      <td>396</td>\n",
       "      <td>396</td>\n",
       "      <td>396</td>\n",
       "      <td>396</td>\n",
       "    </tr>\n",
       "    <tr>\n",
       "      <th>8</th>\n",
       "      <td>Armenia</td>\n",
       "      <td>1</td>\n",
       "      <td>522</td>\n",
       "      <td>522</td>\n",
       "      <td>522</td>\n",
       "      <td>522</td>\n",
       "      <td>522</td>\n",
       "      <td>522</td>\n",
       "      <td>522</td>\n",
       "      <td>522</td>\n",
       "      <td>522</td>\n",
       "      <td>522</td>\n",
       "      <td>522</td>\n",
       "      <td>522</td>\n",
       "    </tr>\n",
       "    <tr>\n",
       "      <th>9</th>\n",
       "      <td>Armenia</td>\n",
       "      <td>2</td>\n",
       "      <td>28</td>\n",
       "      <td>28</td>\n",
       "      <td>28</td>\n",
       "      <td>28</td>\n",
       "      <td>28</td>\n",
       "      <td>28</td>\n",
       "      <td>28</td>\n",
       "      <td>28</td>\n",
       "      <td>28</td>\n",
       "      <td>28</td>\n",
       "      <td>28</td>\n",
       "      <td>28</td>\n",
       "    </tr>\n",
       "  </tbody>\n",
       "</table>\n",
       "</div>"
      ],
      "text/plain": [
       "     Country  Values Groups   ID  DEFIANCE  DISBELIEF  RELATIVISM  SCEPTICISM  \\\n",
       "0    Algeria              1  335       335        335         335         335   \n",
       "1    Algeria              2   45        45         45          45          45   \n",
       "2    Algeria              3  497       497        497         497         497   \n",
       "3    Algeria              4  264       264        264         264         264   \n",
       "4  Argentina              1   52        52         52          52          52   \n",
       "5  Argentina              2  400       400        400         400         400   \n",
       "6  Argentina              3  171       171        171         171         171   \n",
       "7  Argentina              4  396       396        396         396         396   \n",
       "8    Armenia              1  522       522        522         522         522   \n",
       "9    Armenia              2   28        28         28          28          28   \n",
       "\n",
       "   AUTONOMY  EQUALITY  CHOICE  VOICE  SACSECVAL  RESEMAVAL  Count  \n",
       "0       335       335     335    335        335        335    335  \n",
       "1        45        45      45     45         45         45     45  \n",
       "2       497       497     497    497        497        497    497  \n",
       "3       264       264     264    264        264        264    264  \n",
       "4        52        52      52     52         52         52     52  \n",
       "5       400       400     400    400        400        400    400  \n",
       "6       171       171     171    171        171        171    171  \n",
       "7       396       396     396    396        396        396    396  \n",
       "8       522       522     522    522        522        522    522  \n",
       "9        28        28      28     28         28         28     28  "
      ]
     },
     "execution_count": 11,
     "metadata": {},
     "output_type": "execute_result"
    }
   ],
   "source": [
    "Num_clusters_by_country.head(10)"
   ]
  },
  {
   "cell_type": "code",
   "execution_count": 12,
   "metadata": {
    "scrolled": true
   },
   "outputs": [],
   "source": [
    "Percent_df = pd.merge(Num_clusters_by_country[['Country','Values Groups', 'Count']], df_new, on='Country')"
   ]
  },
  {
   "cell_type": "code",
   "execution_count": 13,
   "metadata": {},
   "outputs": [
    {
     "data": {
      "text/html": [
       "<div>\n",
       "<style scoped>\n",
       "    .dataframe tbody tr th:only-of-type {\n",
       "        vertical-align: middle;\n",
       "    }\n",
       "\n",
       "    .dataframe tbody tr th {\n",
       "        vertical-align: top;\n",
       "    }\n",
       "\n",
       "    .dataframe thead th {\n",
       "        text-align: right;\n",
       "    }\n",
       "</style>\n",
       "<table border=\"1\" class=\"dataframe\">\n",
       "  <thead>\n",
       "    <tr style=\"text-align: right;\">\n",
       "      <th></th>\n",
       "      <th>Country</th>\n",
       "      <th>Values Groups</th>\n",
       "      <th>Count_x</th>\n",
       "      <th>Count_y</th>\n",
       "    </tr>\n",
       "  </thead>\n",
       "  <tbody>\n",
       "    <tr>\n",
       "      <th>0</th>\n",
       "      <td>Algeria</td>\n",
       "      <td>1</td>\n",
       "      <td>335</td>\n",
       "      <td>1141</td>\n",
       "    </tr>\n",
       "    <tr>\n",
       "      <th>1</th>\n",
       "      <td>Algeria</td>\n",
       "      <td>2</td>\n",
       "      <td>45</td>\n",
       "      <td>1141</td>\n",
       "    </tr>\n",
       "    <tr>\n",
       "      <th>2</th>\n",
       "      <td>Algeria</td>\n",
       "      <td>3</td>\n",
       "      <td>497</td>\n",
       "      <td>1141</td>\n",
       "    </tr>\n",
       "    <tr>\n",
       "      <th>3</th>\n",
       "      <td>Algeria</td>\n",
       "      <td>4</td>\n",
       "      <td>264</td>\n",
       "      <td>1141</td>\n",
       "    </tr>\n",
       "    <tr>\n",
       "      <th>4</th>\n",
       "      <td>Argentina</td>\n",
       "      <td>1</td>\n",
       "      <td>52</td>\n",
       "      <td>1019</td>\n",
       "    </tr>\n",
       "  </tbody>\n",
       "</table>\n",
       "</div>"
      ],
      "text/plain": [
       "     Country  Values Groups  Count_x  Count_y\n",
       "0    Algeria              1      335     1141\n",
       "1    Algeria              2       45     1141\n",
       "2    Algeria              3      497     1141\n",
       "3    Algeria              4      264     1141\n",
       "4  Argentina              1       52     1019"
      ]
     },
     "execution_count": 13,
     "metadata": {},
     "output_type": "execute_result"
    }
   ],
   "source": [
    "Percent_df.head()"
   ]
  },
  {
   "cell_type": "code",
   "execution_count": 14,
   "metadata": {},
   "outputs": [],
   "source": [
    "Percent_df['Prop'] = Percent_df['Count_x']/Percent_df['Count_y']"
   ]
  },
  {
   "cell_type": "code",
   "execution_count": 15,
   "metadata": {},
   "outputs": [],
   "source": [
    "Percent_df = Percent_df[['Country','Values Groups','Prop']]"
   ]
  },
  {
   "cell_type": "code",
   "execution_count": 16,
   "metadata": {},
   "outputs": [
    {
     "data": {
      "text/html": [
       "<div>\n",
       "<style scoped>\n",
       "    .dataframe tbody tr th:only-of-type {\n",
       "        vertical-align: middle;\n",
       "    }\n",
       "\n",
       "    .dataframe tbody tr th {\n",
       "        vertical-align: top;\n",
       "    }\n",
       "\n",
       "    .dataframe thead th {\n",
       "        text-align: right;\n",
       "    }\n",
       "</style>\n",
       "<table border=\"1\" class=\"dataframe\">\n",
       "  <thead>\n",
       "    <tr style=\"text-align: right;\">\n",
       "      <th></th>\n",
       "      <th>Country</th>\n",
       "      <th>Values Groups</th>\n",
       "      <th>Prop</th>\n",
       "    </tr>\n",
       "  </thead>\n",
       "  <tbody>\n",
       "    <tr>\n",
       "      <th>0</th>\n",
       "      <td>Algeria</td>\n",
       "      <td>1</td>\n",
       "      <td>0.293602</td>\n",
       "    </tr>\n",
       "    <tr>\n",
       "      <th>1</th>\n",
       "      <td>Algeria</td>\n",
       "      <td>2</td>\n",
       "      <td>0.039439</td>\n",
       "    </tr>\n",
       "    <tr>\n",
       "      <th>2</th>\n",
       "      <td>Algeria</td>\n",
       "      <td>3</td>\n",
       "      <td>0.435583</td>\n",
       "    </tr>\n",
       "    <tr>\n",
       "      <th>3</th>\n",
       "      <td>Algeria</td>\n",
       "      <td>4</td>\n",
       "      <td>0.231376</td>\n",
       "    </tr>\n",
       "    <tr>\n",
       "      <th>4</th>\n",
       "      <td>Argentina</td>\n",
       "      <td>1</td>\n",
       "      <td>0.051030</td>\n",
       "    </tr>\n",
       "  </tbody>\n",
       "</table>\n",
       "</div>"
      ],
      "text/plain": [
       "     Country  Values Groups      Prop\n",
       "0    Algeria              1  0.293602\n",
       "1    Algeria              2  0.039439\n",
       "2    Algeria              3  0.435583\n",
       "3    Algeria              4  0.231376\n",
       "4  Argentina              1  0.051030"
      ]
     },
     "execution_count": 16,
     "metadata": {},
     "output_type": "execute_result"
    }
   ],
   "source": [
    "Percent_df.head()"
   ]
  },
  {
   "cell_type": "code",
   "execution_count": 17,
   "metadata": {},
   "outputs": [],
   "source": [
    "df_prop = Percent_df.pivot(index= Percent_df['Country'], columns = 'Values Groups')['Prop']"
   ]
  },
  {
   "cell_type": "code",
   "execution_count": 18,
   "metadata": {},
   "outputs": [
    {
     "data": {
      "text/html": [
       "<div>\n",
       "<style scoped>\n",
       "    .dataframe tbody tr th:only-of-type {\n",
       "        vertical-align: middle;\n",
       "    }\n",
       "\n",
       "    .dataframe tbody tr th {\n",
       "        vertical-align: top;\n",
       "    }\n",
       "\n",
       "    .dataframe thead th {\n",
       "        text-align: right;\n",
       "    }\n",
       "</style>\n",
       "<table border=\"1\" class=\"dataframe\">\n",
       "  <thead>\n",
       "    <tr style=\"text-align: right;\">\n",
       "      <th></th>\n",
       "      <th>Country</th>\n",
       "      <th>1</th>\n",
       "      <th>2</th>\n",
       "      <th>3</th>\n",
       "      <th>4</th>\n",
       "    </tr>\n",
       "  </thead>\n",
       "  <tbody>\n",
       "    <tr>\n",
       "      <th>0</th>\n",
       "      <td>Algeria</td>\n",
       "      <td>0.293602</td>\n",
       "      <td>0.039439</td>\n",
       "      <td>0.435583</td>\n",
       "      <td>0.231376</td>\n",
       "    </tr>\n",
       "    <tr>\n",
       "      <th>1</th>\n",
       "      <td>Argentina</td>\n",
       "      <td>0.051030</td>\n",
       "      <td>0.392542</td>\n",
       "      <td>0.167812</td>\n",
       "      <td>0.388616</td>\n",
       "    </tr>\n",
       "    <tr>\n",
       "      <th>2</th>\n",
       "      <td>Armenia</td>\n",
       "      <td>0.475410</td>\n",
       "      <td>0.025501</td>\n",
       "      <td>0.166667</td>\n",
       "      <td>0.332423</td>\n",
       "    </tr>\n",
       "    <tr>\n",
       "      <th>3</th>\n",
       "      <td>Australia</td>\n",
       "      <td>0.125000</td>\n",
       "      <td>0.670082</td>\n",
       "      <td>0.073087</td>\n",
       "      <td>0.131831</td>\n",
       "    </tr>\n",
       "    <tr>\n",
       "      <th>4</th>\n",
       "      <td>Azerbaijan</td>\n",
       "      <td>0.594378</td>\n",
       "      <td>0.148594</td>\n",
       "      <td>0.088353</td>\n",
       "      <td>0.168675</td>\n",
       "    </tr>\n",
       "  </tbody>\n",
       "</table>\n",
       "</div>"
      ],
      "text/plain": [
       "      Country         1         2         3         4\n",
       "0     Algeria  0.293602  0.039439  0.435583  0.231376\n",
       "1   Argentina  0.051030  0.392542  0.167812  0.388616\n",
       "2     Armenia  0.475410  0.025501  0.166667  0.332423\n",
       "3   Australia  0.125000  0.670082  0.073087  0.131831\n",
       "4  Azerbaijan  0.594378  0.148594  0.088353  0.168675"
      ]
     },
     "execution_count": 18,
     "metadata": {},
     "output_type": "execute_result"
    }
   ],
   "source": [
    "df_prop = pd.DataFrame(df_prop.to_records())\n",
    "df_prop.head()"
   ]
  },
  {
   "cell_type": "code",
   "execution_count": 19,
   "metadata": {
    "scrolled": true
   },
   "outputs": [
    {
     "data": {
      "text/html": [
       "<div>\n",
       "<style scoped>\n",
       "    .dataframe tbody tr th:only-of-type {\n",
       "        vertical-align: middle;\n",
       "    }\n",
       "\n",
       "    .dataframe tbody tr th {\n",
       "        vertical-align: top;\n",
       "    }\n",
       "\n",
       "    .dataframe thead th {\n",
       "        text-align: right;\n",
       "    }\n",
       "</style>\n",
       "<table border=\"1\" class=\"dataframe\">\n",
       "  <thead>\n",
       "    <tr style=\"text-align: right;\">\n",
       "      <th></th>\n",
       "      <th>Group 1</th>\n",
       "      <th>Group 2</th>\n",
       "      <th>Group 3</th>\n",
       "      <th>Group 4</th>\n",
       "    </tr>\n",
       "    <tr>\n",
       "      <th>Country</th>\n",
       "      <th></th>\n",
       "      <th></th>\n",
       "      <th></th>\n",
       "      <th></th>\n",
       "    </tr>\n",
       "  </thead>\n",
       "  <tbody>\n",
       "    <tr>\n",
       "      <th>Algeria</th>\n",
       "      <td>0.293602</td>\n",
       "      <td>0.039439</td>\n",
       "      <td>0.435583</td>\n",
       "      <td>0.231376</td>\n",
       "    </tr>\n",
       "    <tr>\n",
       "      <th>Argentina</th>\n",
       "      <td>0.051030</td>\n",
       "      <td>0.392542</td>\n",
       "      <td>0.167812</td>\n",
       "      <td>0.388616</td>\n",
       "    </tr>\n",
       "    <tr>\n",
       "      <th>Armenia</th>\n",
       "      <td>0.475410</td>\n",
       "      <td>0.025501</td>\n",
       "      <td>0.166667</td>\n",
       "      <td>0.332423</td>\n",
       "    </tr>\n",
       "    <tr>\n",
       "      <th>Australia</th>\n",
       "      <td>0.125000</td>\n",
       "      <td>0.670082</td>\n",
       "      <td>0.073087</td>\n",
       "      <td>0.131831</td>\n",
       "    </tr>\n",
       "    <tr>\n",
       "      <th>Azerbaijan</th>\n",
       "      <td>0.594378</td>\n",
       "      <td>0.148594</td>\n",
       "      <td>0.088353</td>\n",
       "      <td>0.168675</td>\n",
       "    </tr>\n",
       "  </tbody>\n",
       "</table>\n",
       "</div>"
      ],
      "text/plain": [
       "             Group 1   Group 2   Group 3   Group 4\n",
       "Country                                           \n",
       "Algeria     0.293602  0.039439  0.435583  0.231376\n",
       "Argentina   0.051030  0.392542  0.167812  0.388616\n",
       "Armenia     0.475410  0.025501  0.166667  0.332423\n",
       "Australia   0.125000  0.670082  0.073087  0.131831\n",
       "Azerbaijan  0.594378  0.148594  0.088353  0.168675"
      ]
     },
     "execution_count": 19,
     "metadata": {},
     "output_type": "execute_result"
    }
   ],
   "source": [
    "df_prop = df_prop.rename(columns = {'1':'Group 1', '2':'Group 2', '3':'Group 3', '4':'Group 4'})\n",
    "df_prop.set_index('Country', inplace = True)\n",
    "df_prop.head()"
   ]
  },
  {
   "cell_type": "code",
   "execution_count": 20,
   "metadata": {
    "scrolled": true
   },
   "outputs": [
    {
     "data": {
      "text/plain": [
       "Group 1    0\n",
       "Group 2    1\n",
       "Group 3    0\n",
       "Group 4    0\n",
       "dtype: int64"
      ]
     },
     "execution_count": 20,
     "metadata": {},
     "output_type": "execute_result"
    }
   ],
   "source": [
    "df_prop.isnull().sum()"
   ]
  },
  {
   "cell_type": "code",
   "execution_count": 21,
   "metadata": {},
   "outputs": [
    {
     "data": {
      "text/plain": [
       "(60, 4)"
      ]
     },
     "execution_count": 21,
     "metadata": {},
     "output_type": "execute_result"
    }
   ],
   "source": [
    "df_prop.shape"
   ]
  },
  {
   "cell_type": "code",
   "execution_count": 22,
   "metadata": {},
   "outputs": [],
   "source": [
    "df_prop['Group 2'] = df_prop['Group 2'].fillna(df_prop['Group 2'].mean())"
   ]
  },
  {
   "cell_type": "code",
   "execution_count": 23,
   "metadata": {
    "scrolled": false
   },
   "outputs": [
    {
     "data": {
      "text/plain": [
       "Group 1    0\n",
       "Group 2    0\n",
       "Group 3    0\n",
       "Group 4    0\n",
       "dtype: int64"
      ]
     },
     "execution_count": 23,
     "metadata": {},
     "output_type": "execute_result"
    }
   ],
   "source": [
    "df_prop.isnull().sum()"
   ]
  },
  {
   "cell_type": "code",
   "execution_count": 24,
   "metadata": {
    "scrolled": true
   },
   "outputs": [
    {
     "data": {
      "text/html": [
       "<div>\n",
       "<style scoped>\n",
       "    .dataframe tbody tr th:only-of-type {\n",
       "        vertical-align: middle;\n",
       "    }\n",
       "\n",
       "    .dataframe tbody tr th {\n",
       "        vertical-align: top;\n",
       "    }\n",
       "\n",
       "    .dataframe thead th {\n",
       "        text-align: right;\n",
       "    }\n",
       "</style>\n",
       "<table border=\"1\" class=\"dataframe\">\n",
       "  <thead>\n",
       "    <tr style=\"text-align: right;\">\n",
       "      <th></th>\n",
       "      <th>Group 1</th>\n",
       "      <th>Group 2</th>\n",
       "      <th>Group 3</th>\n",
       "      <th>Group 4</th>\n",
       "    </tr>\n",
       "    <tr>\n",
       "      <th>Country</th>\n",
       "      <th></th>\n",
       "      <th></th>\n",
       "      <th></th>\n",
       "      <th></th>\n",
       "    </tr>\n",
       "  </thead>\n",
       "  <tbody>\n",
       "    <tr>\n",
       "      <th>Algeria</th>\n",
       "      <td>0.293602</td>\n",
       "      <td>0.039439</td>\n",
       "      <td>0.435583</td>\n",
       "      <td>0.231376</td>\n",
       "    </tr>\n",
       "    <tr>\n",
       "      <th>Argentina</th>\n",
       "      <td>0.051030</td>\n",
       "      <td>0.392542</td>\n",
       "      <td>0.167812</td>\n",
       "      <td>0.388616</td>\n",
       "    </tr>\n",
       "    <tr>\n",
       "      <th>Armenia</th>\n",
       "      <td>0.475410</td>\n",
       "      <td>0.025501</td>\n",
       "      <td>0.166667</td>\n",
       "      <td>0.332423</td>\n",
       "    </tr>\n",
       "    <tr>\n",
       "      <th>Australia</th>\n",
       "      <td>0.125000</td>\n",
       "      <td>0.670082</td>\n",
       "      <td>0.073087</td>\n",
       "      <td>0.131831</td>\n",
       "    </tr>\n",
       "    <tr>\n",
       "      <th>Azerbaijan</th>\n",
       "      <td>0.594378</td>\n",
       "      <td>0.148594</td>\n",
       "      <td>0.088353</td>\n",
       "      <td>0.168675</td>\n",
       "    </tr>\n",
       "  </tbody>\n",
       "</table>\n",
       "</div>"
      ],
      "text/plain": [
       "             Group 1   Group 2   Group 3   Group 4\n",
       "Country                                           \n",
       "Algeria     0.293602  0.039439  0.435583  0.231376\n",
       "Argentina   0.051030  0.392542  0.167812  0.388616\n",
       "Armenia     0.475410  0.025501  0.166667  0.332423\n",
       "Australia   0.125000  0.670082  0.073087  0.131831\n",
       "Azerbaijan  0.594378  0.148594  0.088353  0.168675"
      ]
     },
     "execution_count": 24,
     "metadata": {},
     "output_type": "execute_result"
    }
   ],
   "source": [
    "df_prop.head()"
   ]
  },
  {
   "cell_type": "code",
   "execution_count": 25,
   "metadata": {},
   "outputs": [],
   "source": [
    "scaler = StandardScaler()\n",
    "df_prop_std = scaler.fit_transform(df_prop)"
   ]
  },
  {
   "cell_type": "code",
   "execution_count": 26,
   "metadata": {},
   "outputs": [
    {
     "data": {
      "text/plain": [
       "PCA(copy=True, iterated_power='auto', n_components=None, random_state=None,\n",
       "  svd_solver='auto', tol=0.0, whiten=False)"
      ]
     },
     "execution_count": 26,
     "metadata": {},
     "output_type": "execute_result"
    }
   ],
   "source": [
    "pca = PCA()\n",
    "pca.fit(df_prop_std)\n",
    "PCA (copy = True, iterated_power = 'auto', n_components = None, random_state = None, svd_solver = 'auto',\\\n",
    "    tol=0.0, whiten = False)"
   ]
  },
  {
   "cell_type": "code",
   "execution_count": 27,
   "metadata": {},
   "outputs": [
    {
     "data": {
      "text/plain": [
       "array([0.45479358, 0.33685606, 0.20708261, 0.00126774])"
      ]
     },
     "execution_count": 27,
     "metadata": {},
     "output_type": "execute_result"
    }
   ],
   "source": [
    "pca.explained_variance_ratio_"
   ]
  },
  {
   "cell_type": "code",
   "execution_count": 28,
   "metadata": {},
   "outputs": [
    {
     "data": {
      "text/plain": [
       "Text(0, 0.5, 'Cumulative Explained Variance')"
      ]
     },
     "execution_count": 28,
     "metadata": {},
     "output_type": "execute_result"
    },
    {
     "data": {
      "image/png": "[encoded data removed]",
      "text/plain": [
       "<Figure size 576x576 with 1 Axes>"
      ]
     },
     "metadata": {
      "needs_background": "light"
     },
     "output_type": "display_data"
    }
   ],
   "source": [
    "plt.figure(figsize = (8,8))\n",
    "plt.plot(range(1,5), pca.explained_variance_ratio_.cumsum(), marker = 'o', linestyle = '--')\n",
    "plt.title('Explained Variance by Components')\n",
    "plt.xlabel('Number of Components')\n",
    "plt.ylabel('Cumulative Explained Variance')"
   ]
  },
  {
   "cell_type": "code",
   "execution_count": 29,
   "metadata": {},
   "outputs": [
    {
     "data": {
      "text/plain": [
       "PCA(copy=True, iterated_power='auto', n_components=3, random_state=None,\n",
       "  svd_solver='auto', tol=0.0, whiten=False)"
      ]
     },
     "execution_count": 29,
     "metadata": {},
     "output_type": "execute_result"
    }
   ],
   "source": [
    "pca = PCA(n_components = 3)\n",
    "pca.fit(df_prop_std)"
   ]
  },
  {
   "cell_type": "code",
   "execution_count": 30,
   "metadata": {},
   "outputs": [
    {
     "data": {
      "text/plain": [
       "array([[-0.32091974,  0.72970591, -0.51250911, -0.31917741],\n",
       "       [ 0.75172714, -0.10555463, -0.24553481, -0.60289069],\n",
       "       [ 0.24530705, -0.13047951, -0.72898814,  0.62560038]])"
      ]
     },
     "execution_count": 30,
     "metadata": {},
     "output_type": "execute_result"
    }
   ],
   "source": [
    "pca.components_"
   ]
  },
  {
   "cell_type": "code",
   "execution_count": 31,
   "metadata": {},
   "outputs": [
    {
     "data": {
      "text/html": [
       "<div>\n",
       "<style scoped>\n",
       "    .dataframe tbody tr th:only-of-type {\n",
       "        vertical-align: middle;\n",
       "    }\n",
       "\n",
       "    .dataframe tbody tr th {\n",
       "        vertical-align: top;\n",
       "    }\n",
       "\n",
       "    .dataframe thead th {\n",
       "        text-align: right;\n",
       "    }\n",
       "</style>\n",
       "<table border=\"1\" class=\"dataframe\">\n",
       "  <thead>\n",
       "    <tr style=\"text-align: right;\">\n",
       "      <th></th>\n",
       "      <th>Group 1</th>\n",
       "      <th>Group 2</th>\n",
       "      <th>Group 3</th>\n",
       "      <th>Group 4</th>\n",
       "    </tr>\n",
       "  </thead>\n",
       "  <tbody>\n",
       "    <tr>\n",
       "      <th>Component 1</th>\n",
       "      <td>-0.320920</td>\n",
       "      <td>0.729706</td>\n",
       "      <td>-0.512509</td>\n",
       "      <td>-0.319177</td>\n",
       "    </tr>\n",
       "    <tr>\n",
       "      <th>Component 2</th>\n",
       "      <td>0.751727</td>\n",
       "      <td>-0.105555</td>\n",
       "      <td>-0.245535</td>\n",
       "      <td>-0.602891</td>\n",
       "    </tr>\n",
       "    <tr>\n",
       "      <th>Component 3</th>\n",
       "      <td>0.245307</td>\n",
       "      <td>-0.130480</td>\n",
       "      <td>-0.728988</td>\n",
       "      <td>0.625600</td>\n",
       "    </tr>\n",
       "  </tbody>\n",
       "</table>\n",
       "</div>"
      ],
      "text/plain": [
       "              Group 1   Group 2   Group 3   Group 4\n",
       "Component 1 -0.320920  0.729706 -0.512509 -0.319177\n",
       "Component 2  0.751727 -0.105555 -0.245535 -0.602891\n",
       "Component 3  0.245307 -0.130480 -0.728988  0.625600"
      ]
     },
     "execution_count": 31,
     "metadata": {},
     "output_type": "execute_result"
    }
   ],
   "source": [
    "df_pca_comp = pd.DataFrame(data = pca.components_,\n",
    "                          columns = df_prop.columns.values,\n",
    "                          index = ['Component 1','Component 2','Component 3'])\n",
    "df_pca_comp"
   ]
  },
  {
   "cell_type": "code",
   "execution_count": 32,
   "metadata": {
    "scrolled": true
   },
   "outputs": [
    {
     "data": {
      "image/png": "[encoded data removed]",
      "text/plain": [
       "<Figure size 432x288 with 2 Axes>"
      ]
     },
     "metadata": {
      "needs_background": "light"
     },
     "output_type": "display_data"
    }
   ],
   "source": [
    "sns.heatmap(df_pca_comp,\n",
    "           vmin = -1,\n",
    "           vmax = 1,\n",
    "           cmap = 'RdBu',\n",
    "           annot = True)\n",
    "plt.yticks([0,1,2,3,4,5],\n",
    "           ['Component 1','Component 2','Component 3'],\n",
    "           rotation = 45, fontsize = 9);"
   ]
  },
  {
   "cell_type": "code",
   "execution_count": 33,
   "metadata": {},
   "outputs": [],
   "source": [
    "scores_pca = pca.transform(df_prop_std)"
   ]
  },
  {
   "cell_type": "code",
   "execution_count": 34,
   "metadata": {},
   "outputs": [],
   "source": [
    "wcss = []\n",
    "for i in range(1,11):\n",
    "    kmeans_pca = KMeans(n_clusters = i, init = 'k-means++', random_state = 42)\n",
    "    kmeans_pca.fit(scores_pca)\n",
    "    wcss.append(kmeans_pca.inertia_)"
   ]
  },
  {
   "cell_type": "code",
   "execution_count": 35,
   "metadata": {},
   "outputs": [
    {
     "data": {
      "image/png": "[encoded data removed]",
      "text/plain": [
       "<Figure size 720x720 with 1 Axes>"
      ]
     },
     "metadata": {
      "needs_background": "light"
     },
     "output_type": "display_data"
    }
   ],
   "source": [
    "# Plot the Within Cluster Sum of Squares for the K-means PCA model. Here we make a decission about the number of clusters.\n",
    "# Again it looks like four is the best option.\n",
    "plt.figure(figsize = (10,10))\n",
    "plt.plot(range(1, 11), wcss, marker = 'o', linestyle = '--')\n",
    "plt.xlabel('Number of Clusters')\n",
    "plt.ylabel('WCSS')\n",
    "plt.title('K-means with PCA Clustering')\n",
    "plt.show()"
   ]
  },
  {
   "cell_type": "code",
   "execution_count": 36,
   "metadata": {
    "scrolled": true
   },
   "outputs": [
    {
     "data": {
      "text/plain": [
       "KMeans(algorithm='auto', copy_x=True, init='k-means++', max_iter=300,\n",
       "    n_clusters=4, n_init=10, n_jobs=None, precompute_distances='auto',\n",
       "    random_state=42, tol=0.0001, verbose=0)"
      ]
     },
     "execution_count": 36,
     "metadata": {},
     "output_type": "execute_result"
    }
   ],
   "source": [
    "kmeans_pca = KMeans(n_clusters = 4, init = 'k-means++', random_state = 42)\n",
    "kmeans_pca.fit(df_prop_std)"
   ]
  },
  {
   "cell_type": "code",
   "execution_count": 37,
   "metadata": {},
   "outputs": [],
   "source": [
    "df_prop['Country'] = df_prop.index"
   ]
  },
  {
   "cell_type": "code",
   "execution_count": 38,
   "metadata": {
    "scrolled": true
   },
   "outputs": [],
   "source": [
    "df_val_pca_kmeans = pd.concat([df_prop.reset_index(drop = True), pd.DataFrame(scores_pca)], axis = 1)\n",
    "df_val_pca_kmeans.columns.values[-3: ] = ['Component 1', 'Component 2', 'Component 3']\n",
    "# The last column we add contains the pca k-means clustering labels.\n",
    "df_val_pca_kmeans['Clusters'] = kmeans_pca.labels_"
   ]
  },
  {
   "cell_type": "code",
   "execution_count": 39,
   "metadata": {},
   "outputs": [
    {
     "data": {
      "text/html": [
       "<div>\n",
       "<style scoped>\n",
       "    .dataframe tbody tr th:only-of-type {\n",
       "        vertical-align: middle;\n",
       "    }\n",
       "\n",
       "    .dataframe tbody tr th {\n",
       "        vertical-align: top;\n",
       "    }\n",
       "\n",
       "    .dataframe thead th {\n",
       "        text-align: right;\n",
       "    }\n",
       "</style>\n",
       "<table border=\"1\" class=\"dataframe\">\n",
       "  <thead>\n",
       "    <tr style=\"text-align: right;\">\n",
       "      <th></th>\n",
       "      <th>Group 1</th>\n",
       "      <th>Group 2</th>\n",
       "      <th>Group 3</th>\n",
       "      <th>Group 4</th>\n",
       "      <th>Country</th>\n",
       "      <th>Component 1</th>\n",
       "      <th>Component 2</th>\n",
       "      <th>Component 3</th>\n",
       "      <th>Clusters</th>\n",
       "    </tr>\n",
       "  </thead>\n",
       "  <tbody>\n",
       "    <tr>\n",
       "      <th>0</th>\n",
       "      <td>0.293602</td>\n",
       "      <td>0.039439</td>\n",
       "      <td>0.435583</td>\n",
       "      <td>0.231376</td>\n",
       "      <td>Algeria</td>\n",
       "      <td>-1.218164</td>\n",
       "      <td>-0.214611</td>\n",
       "      <td>-0.912588</td>\n",
       "      <td>3</td>\n",
       "    </tr>\n",
       "    <tr>\n",
       "      <th>1</th>\n",
       "      <td>0.051030</td>\n",
       "      <td>0.392542</td>\n",
       "      <td>0.167812</td>\n",
       "      <td>0.388616</td>\n",
       "      <td>Argentina</td>\n",
       "      <td>0.738500</td>\n",
       "      <td>-1.414067</td>\n",
       "      <td>0.643097</td>\n",
       "      <td>1</td>\n",
       "    </tr>\n",
       "    <tr>\n",
       "      <th>2</th>\n",
       "      <td>0.475410</td>\n",
       "      <td>0.025501</td>\n",
       "      <td>0.166667</td>\n",
       "      <td>0.332423</td>\n",
       "      <td>Armenia</td>\n",
       "      <td>-0.806650</td>\n",
       "      <td>0.470949</td>\n",
       "      <td>1.082729</td>\n",
       "      <td>4</td>\n",
       "    </tr>\n",
       "    <tr>\n",
       "      <th>3</th>\n",
       "      <td>0.125000</td>\n",
       "      <td>0.670082</td>\n",
       "      <td>0.073087</td>\n",
       "      <td>0.131831</td>\n",
       "      <td>Australia</td>\n",
       "      <td>2.300181</td>\n",
       "      <td>-0.045869</td>\n",
       "      <td>-0.036145</td>\n",
       "      <td>2</td>\n",
       "    </tr>\n",
       "    <tr>\n",
       "      <th>4</th>\n",
       "      <td>0.594378</td>\n",
       "      <td>0.148594</td>\n",
       "      <td>0.088353</td>\n",
       "      <td>0.168675</td>\n",
       "      <td>Azerbaijan</td>\n",
       "      <td>-0.007599</td>\n",
       "      <td>1.649643</td>\n",
       "      <td>0.849201</td>\n",
       "      <td>4</td>\n",
       "    </tr>\n",
       "  </tbody>\n",
       "</table>\n",
       "</div>"
      ],
      "text/plain": [
       "    Group 1   Group 2   Group 3   Group 4     Country  Component 1  \\\n",
       "0  0.293602  0.039439  0.435583  0.231376     Algeria    -1.218164   \n",
       "1  0.051030  0.392542  0.167812  0.388616   Argentina     0.738500   \n",
       "2  0.475410  0.025501  0.166667  0.332423     Armenia    -0.806650   \n",
       "3  0.125000  0.670082  0.073087  0.131831   Australia     2.300181   \n",
       "4  0.594378  0.148594  0.088353  0.168675  Azerbaijan    -0.007599   \n",
       "\n",
       "   Component 2  Component 3 Clusters  \n",
       "0    -0.214611    -0.912588        3  \n",
       "1    -1.414067     0.643097        1  \n",
       "2     0.470949     1.082729        4  \n",
       "3    -0.045869    -0.036145        2  \n",
       "4     1.649643     0.849201        4  "
      ]
     },
     "execution_count": 39,
     "metadata": {},
     "output_type": "execute_result"
    }
   ],
   "source": [
    "df_val_pca_kmeans['Clusters'] = df_val_pca_kmeans['Clusters'].map({0:'1', \n",
    "                                                          1:'2',\n",
    "                                                          2:'3', \n",
    "                                                          3:'4'})\n",
    "df_val_pca_kmeans.head()"
   ]
  },
  {
   "cell_type": "code",
   "execution_count": 40,
   "metadata": {},
   "outputs": [
    {
     "data": {
      "image/png": "[encoded data removed]",
      "text/plain": [
       "<Figure size 864x720 with 1 Axes>"
      ]
     },
     "metadata": {
      "needs_background": "light"
     },
     "output_type": "display_data"
    }
   ],
   "source": [
    "x_axis = df_val_pca_kmeans['Component 1']\n",
    "y_axis = df_val_pca_kmeans['Component 2']\n",
    "plt.figure(figsize = (12, 10))\n",
    "sns.scatterplot(x_axis, y_axis, hue = df_val_pca_kmeans['Clusters'], palette = ['red','orange','green','dodgerblue'])\n",
    "plt.title('Country Segmentation by PCA')\n",
    "plt.show()"
   ]
  },
  {
   "cell_type": "code",
   "execution_count": 41,
   "metadata": {
    "scrolled": false
   },
   "outputs": [
    {
     "data": {
      "text/plain": [
       "<mpl_toolkits.mplot3d.art3d.Path3DCollection at 0x2629a93fb00>"
      ]
     },
     "execution_count": 41,
     "metadata": {},
     "output_type": "execute_result"
    },
    {
     "data": {
      "image/png": "[encoded data removed]",
      "text/plain": [
       "<Figure size 1152x864 with 1 Axes>"
      ]
     },
     "metadata": {
      "needs_background": "light"
     },
     "output_type": "display_data"
    }
   ],
   "source": [
    "from mpl_toolkits.mplot3d import Axes3D\n",
    "fig = plt.figure(figsize=(16, 12))\n",
    "plt.clf()\n",
    "ax = Axes3D(fig, rect = [0, 0, .95, 1], elev = 30, azim =120)\n",
    "# ax = fig.add_subplot(111, projection = '3d')\n",
    "\n",
    "plt.cla()\n",
    "\n",
    "ax.set_xlabel('Component 1')\n",
    "ax.set_ylabel('Component 2')\n",
    "ax.set_zlabel('Component 3')\n",
    "\n",
    "X = df_val_pca_kmeans['Component 1']\n",
    "Y = df_val_pca_kmeans['Component 2']\n",
    "Z = df_val_pca_kmeans['Component 3']\n",
    "\n",
    "ax.scatter(X,Y,Z, c= df_val_pca_kmeans['Clusters'].astype(int))"
   ]
  },
  {
   "cell_type": "code",
   "execution_count": 42,
   "metadata": {},
   "outputs": [],
   "source": [
    "df_val_pca_kmeans.to_csv('Country_Cluster.csv', sep = ',')"
   ]
  },
  {
   "cell_type": "code",
   "execution_count": 43,
   "metadata": {
    "scrolled": true
   },
   "outputs": [
    {
     "data": {
      "text/html": [
       "<div>\n",
       "<style scoped>\n",
       "    .dataframe tbody tr th:only-of-type {\n",
       "        vertical-align: middle;\n",
       "    }\n",
       "\n",
       "    .dataframe tbody tr th {\n",
       "        vertical-align: top;\n",
       "    }\n",
       "\n",
       "    .dataframe thead th {\n",
       "        text-align: right;\n",
       "    }\n",
       "</style>\n",
       "<table border=\"1\" class=\"dataframe\">\n",
       "  <thead>\n",
       "    <tr style=\"text-align: right;\">\n",
       "      <th></th>\n",
       "      <th>Group 1</th>\n",
       "      <th>Group 2</th>\n",
       "      <th>Group 3</th>\n",
       "      <th>Group 4</th>\n",
       "      <th>Country</th>\n",
       "      <th>Component 1</th>\n",
       "      <th>Component 2</th>\n",
       "      <th>Component 3</th>\n",
       "      <th>Clusters</th>\n",
       "    </tr>\n",
       "  </thead>\n",
       "  <tbody>\n",
       "    <tr>\n",
       "      <th>0</th>\n",
       "      <td>0.293602</td>\n",
       "      <td>0.039439</td>\n",
       "      <td>0.435583</td>\n",
       "      <td>0.231376</td>\n",
       "      <td>Algeria</td>\n",
       "      <td>-1.218164</td>\n",
       "      <td>-0.214611</td>\n",
       "      <td>-0.912588</td>\n",
       "      <td>3</td>\n",
       "    </tr>\n",
       "    <tr>\n",
       "      <th>1</th>\n",
       "      <td>0.051030</td>\n",
       "      <td>0.392542</td>\n",
       "      <td>0.167812</td>\n",
       "      <td>0.388616</td>\n",
       "      <td>Argentina</td>\n",
       "      <td>0.738500</td>\n",
       "      <td>-1.414067</td>\n",
       "      <td>0.643097</td>\n",
       "      <td>1</td>\n",
       "    </tr>\n",
       "    <tr>\n",
       "      <th>2</th>\n",
       "      <td>0.475410</td>\n",
       "      <td>0.025501</td>\n",
       "      <td>0.166667</td>\n",
       "      <td>0.332423</td>\n",
       "      <td>Armenia</td>\n",
       "      <td>-0.806650</td>\n",
       "      <td>0.470949</td>\n",
       "      <td>1.082729</td>\n",
       "      <td>4</td>\n",
       "    </tr>\n",
       "    <tr>\n",
       "      <th>3</th>\n",
       "      <td>0.125000</td>\n",
       "      <td>0.670082</td>\n",
       "      <td>0.073087</td>\n",
       "      <td>0.131831</td>\n",
       "      <td>Australia</td>\n",
       "      <td>2.300181</td>\n",
       "      <td>-0.045869</td>\n",
       "      <td>-0.036145</td>\n",
       "      <td>2</td>\n",
       "    </tr>\n",
       "    <tr>\n",
       "      <th>4</th>\n",
       "      <td>0.594378</td>\n",
       "      <td>0.148594</td>\n",
       "      <td>0.088353</td>\n",
       "      <td>0.168675</td>\n",
       "      <td>Azerbaijan</td>\n",
       "      <td>-0.007599</td>\n",
       "      <td>1.649643</td>\n",
       "      <td>0.849201</td>\n",
       "      <td>4</td>\n",
       "    </tr>\n",
       "  </tbody>\n",
       "</table>\n",
       "</div>"
      ],
      "text/plain": [
       "    Group 1   Group 2   Group 3   Group 4     Country  Component 1  \\\n",
       "0  0.293602  0.039439  0.435583  0.231376     Algeria    -1.218164   \n",
       "1  0.051030  0.392542  0.167812  0.388616   Argentina     0.738500   \n",
       "2  0.475410  0.025501  0.166667  0.332423     Armenia    -0.806650   \n",
       "3  0.125000  0.670082  0.073087  0.131831   Australia     2.300181   \n",
       "4  0.594378  0.148594  0.088353  0.168675  Azerbaijan    -0.007599   \n",
       "\n",
       "   Component 2  Component 3 Clusters  \n",
       "0    -0.214611    -0.912588        3  \n",
       "1    -1.414067     0.643097        1  \n",
       "2     0.470949     1.082729        4  \n",
       "3    -0.045869    -0.036145        2  \n",
       "4     1.649643     0.849201        4  "
      ]
     },
     "execution_count": 43,
     "metadata": {},
     "output_type": "execute_result"
    }
   ],
   "source": [
    "df_val_pca_kmeans.head()"
   ]
  },
  {
   "cell_type": "markdown",
   "metadata": {},
   "source": [
    "## Ratio Analysis - PCA with Kmeans"
   ]
  },
  {
   "cell_type": "code",
   "execution_count": 46,
   "metadata": {},
   "outputs": [
    {
     "data": {
      "text/html": [
       "<div>\n",
       "<style scoped>\n",
       "    .dataframe tbody tr th:only-of-type {\n",
       "        vertical-align: middle;\n",
       "    }\n",
       "\n",
       "    .dataframe tbody tr th {\n",
       "        vertical-align: top;\n",
       "    }\n",
       "\n",
       "    .dataframe thead th {\n",
       "        text-align: right;\n",
       "    }\n",
       "</style>\n",
       "<table border=\"1\" class=\"dataframe\">\n",
       "  <thead>\n",
       "    <tr style=\"text-align: right;\">\n",
       "      <th></th>\n",
       "      <th>Group 1</th>\n",
       "      <th>Group 2</th>\n",
       "      <th>Group 3</th>\n",
       "      <th>Group 4</th>\n",
       "      <th>Component 1</th>\n",
       "      <th>Component 2</th>\n",
       "      <th>Component 3</th>\n",
       "      <th>N Obs</th>\n",
       "      <th>Prop Obs</th>\n",
       "    </tr>\n",
       "    <tr>\n",
       "      <th>Clusters</th>\n",
       "      <th></th>\n",
       "      <th></th>\n",
       "      <th></th>\n",
       "      <th></th>\n",
       "      <th></th>\n",
       "      <th></th>\n",
       "      <th></th>\n",
       "      <th></th>\n",
       "      <th></th>\n",
       "    </tr>\n",
       "  </thead>\n",
       "  <tbody>\n",
       "    <tr>\n",
       "      <th>1</th>\n",
       "      <td>0.138287</td>\n",
       "      <td>0.138802</td>\n",
       "      <td>0.206975</td>\n",
       "      <td>0.515937</td>\n",
       "      <td>-0.521727</td>\n",
       "      <td>-1.593450</td>\n",
       "      <td>1.220389</td>\n",
       "      <td>9</td>\n",
       "      <td>0.150000</td>\n",
       "    </tr>\n",
       "    <tr>\n",
       "      <th>2</th>\n",
       "      <td>0.131914</td>\n",
       "      <td>0.606375</td>\n",
       "      <td>0.113877</td>\n",
       "      <td>0.147834</td>\n",
       "      <td>1.932390</td>\n",
       "      <td>-0.130294</td>\n",
       "      <td>-0.131779</td>\n",
       "      <td>17</td>\n",
       "      <td>0.283333</td>\n",
       "    </tr>\n",
       "    <tr>\n",
       "      <th>3</th>\n",
       "      <td>0.257462</td>\n",
       "      <td>0.091239</td>\n",
       "      <td>0.426568</td>\n",
       "      <td>0.224731</td>\n",
       "      <td>-0.971873</td>\n",
       "      <td>-0.320967</td>\n",
       "      <td>-0.963678</td>\n",
       "      <td>18</td>\n",
       "      <td>0.300000</td>\n",
       "    </tr>\n",
       "    <tr>\n",
       "      <th>4</th>\n",
       "      <td>0.587547</td>\n",
       "      <td>0.049016</td>\n",
       "      <td>0.182215</td>\n",
       "      <td>0.195789</td>\n",
       "      <td>-0.666336</td>\n",
       "      <td>1.395841</td>\n",
       "      <td>0.537684</td>\n",
       "      <td>16</td>\n",
       "      <td>0.266667</td>\n",
       "    </tr>\n",
       "  </tbody>\n",
       "</table>\n",
       "</div>"
      ],
      "text/plain": [
       "           Group 1   Group 2   Group 3   Group 4  Component 1  Component 2  \\\n",
       "Clusters                                                                     \n",
       "1         0.138287  0.138802  0.206975  0.515937    -0.521727    -1.593450   \n",
       "2         0.131914  0.606375  0.113877  0.147834     1.932390    -0.130294   \n",
       "3         0.257462  0.091239  0.426568  0.224731    -0.971873    -0.320967   \n",
       "4         0.587547  0.049016  0.182215  0.195789    -0.666336     1.395841   \n",
       "\n",
       "          Component 3  N Obs  Prop Obs  \n",
       "Clusters                                \n",
       "1            1.220389      9  0.150000  \n",
       "2           -0.131779     17  0.283333  \n",
       "3           -0.963678     18  0.300000  \n",
       "4            0.537684     16  0.266667  "
      ]
     },
     "execution_count": 46,
     "metadata": {},
     "output_type": "execute_result"
    }
   ],
   "source": [
    "df_kmeans_analysis = df_val_pca_kmeans.groupby(['Clusters']).mean()\n",
    "df_kmeans_analysis['N Obs'] = df_val_pca_kmeans[['Clusters','Group 1']].groupby(['Clusters']).count()\n",
    "df_kmeans_analysis['Prop Obs'] = df_kmeans_analysis['N Obs']/ df_kmeans_analysis['N Obs'].sum()\n",
    "df_kmeans_analysis.head()"
   ]
  },
  {
   "cell_type": "code",
   "execution_count": null,
   "metadata": {},
   "outputs": [],
   "source": []
  }
 ],
 "metadata": {
  "kernelspec": {
   "display_name": "Python 3",
   "language": "python",
   "name": "python3"
  },
  "language_info": {
   "codemirror_mode": {
    "name": "ipython",
    "version": 3
   },
   "file_extension": ".py",
   "mimetype": "text/x-python",
   "name": "python",
   "nbconvert_exporter": "python",
   "pygments_lexer": "ipython3",
   "version": "3.7.3"
  }
 },
 "nbformat": 4,
 "nbformat_minor": 2
}
